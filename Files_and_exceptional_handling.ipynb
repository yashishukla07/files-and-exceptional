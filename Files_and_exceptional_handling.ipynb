{
  "cells": [
    {
      "cell_type": "code",
      "execution_count": null,
      "metadata": {
        "id": "ovv-36He23_9"
      },
      "outputs": [],
      "source": []
    },
    {
      "cell_type": "markdown",
      "metadata": {
        "id": "SGqujhWZ3A0c"
      },
      "source": [
        "1. What is the difference between interpreted and compiled languages?\n",
        "  - Interpreted languages, like Python, execute code directly line by line using an interpreter. Compiled languages, on the other hand, require a separate compilation step that translates the source code into machine code before execution.\n",
        "\n",
        "2. What is exception handling in Python?\n",
        "  - In Python, exception handling is the process of responding to errors that occur during program execution. It allows programs to continue running smoothly and avoid crashing.\n",
        "\n",
        "3. What is the purpose of the finally block in exception handling?\n",
        "  - The purpose of the finally block in exception handling is to ensure that certain code, often cleanup tasks like closing files or releasing resources, is executed regardless of whether an exception was thrown or caught in the try block. This guarantees that crucial operations, such as releasing resources, always occur, even in the presence of exceptions, preventing potential resource leaks and ensuring program stability.\n",
        "\n",
        "4. What is logging in Python?\n",
        "  - Python logging is a module that allows you to track events that occur while your program is running. You can use logging to record information about errors, warnings, and other events that occur during program execution. And logging is a useful tool for debugging, troubleshooting, and monitoring your program.\n",
        "\n",
        "5. What is the significance of the __del__ method in Python?\n",
        "  - In Python, the __del__() method is referred to as a destructor method. It is called after an object's garbage collection occurs, which happens after all references to the item have been destroyed.\n",
        "\n",
        "6. What is the difference between import and from ... import in Python?\n",
        "  - The difference between import and from import in Python is: import imports an entire code library. from import imports a specific member or members of the library.\n",
        "  \n",
        "  Syntax of Import Module Statement:\n",
        "        import module_name\n",
        "\n",
        "  Syntax of From Import Statement\n",
        "       from module_name import name1, name2, ...\n",
        "\n",
        "7. How can you handle multiple exceptions in Python?\n",
        "  - In Python, you can handle multiple exceptions by using multiple except clauses within a try-except block. Each except clause can handle a specific type of exception. Alternatively, you can group multiple exceptions within a single except clause using a tuple.\n",
        "\n",
        "8. What is the purpose of the with statement when handling files in Python?\n",
        "  - The purpose of the with statement in Python file handling is to streamline resource management, ensuring files are opened and closed automatically, and that the code within the with block executes even if exceptions are raised. This simplifies file operations and reduces the risk of resource leaks.\n",
        "\n",
        "9. What is the difference between multithreading and multiprocessing?\n",
        "  - Multithreading and multiprocessing are both techniques to execute multiple tasks concurrently, but they differ in how they achieve parallelism. Multithreading allows multiple threads to share the same memory space within a single process, while multiprocessing involves multiple processes with their own memory spaces.\n",
        "\n",
        "10. What are the advantages of using logging in a program?\n",
        "  - Logging in a program offers numerous advantages, primarily facilitating debugging, monitoring application behavior, and enhancing security. It helps developers understand what's happening within their applications, especially when issues arise, and provides a record of activity for auditing and compliance.\n",
        "\n",
        "11. What is memory management in Python?\n",
        "  - In Python, memory management is the process of allocating and deallocating memory for objects and data structures during program execution. Python handles this automatically, meaning developers generally don't need to manually allocate or free memory. This is done through a private heap, where all Python objects are stored, and the Python memory manager handles allocation and deallocation.\n",
        "\n",
        "12. What are the basic steps involved in exception handling in Python?\n",
        "  - Exception handling in Python involves using try, except, else, and finally blocks to gracefully handle errors that might occur during program execution. The try block contains code that might raise an exception. If an exception occurs, the except block handles it. The else block executes if no exception is raised in the try block. The finally block always executes, regardless of whether an exception occurred or not, and is often used for cleanup tasks.\n",
        "\n",
        "13. Why is memory management important in Python?\n",
        "  - Python uses automatic memory management, primarily relying on a private heap and object-specific allocators, ensuring efficient allocation and deallocation of memory for objects. This process is managed by Python's internal memory manager, which leverages reference counting and garbage collection to track and reclaim unused memory.\n",
        "\n",
        "14. What is the role of try and except in exception handling?\n",
        "  - In exception handling, the try and except blocks work together to gracefully manage errors that might occur during code execution. The try block contains the code that might potentially raise an exception, while the except block provides instructions for handling that exception if it occurs.\n",
        "\n",
        "15. How does Python's garbage collection system work?\n",
        "  - Python uses a hybrid approach for garbage collection: reference counting and generational garbage collection. Reference counting identifies objects with no active references and frees their memory immediately. Generational garbage collection uses a mark-and-sweep algorithm to identify and collect objects that are no longer reachable, particularly addressing issues with circular references.\n",
        "\n",
        "16. What is the purpose of the else block in exception handling?\n",
        "  - The else block in exception handling, when used with try...except, executes the code within it only if no exceptions are raised within the try block. It provides a way to execute specific code when the try block's operations are successful, without the need for an exception.\n",
        "\n",
        "17. What are the common logging levels in Python?\n",
        "  - Python logging supports multiple levels of severity, such as DEBUG , INFO , WARNING , ERROR , and CRITICAL , allowing you to categorize and filter log messages effectively. DEBUG: It is used for detailed information for diagnosing problems. It is typically used for development and debugging.\n",
        "\n",
        "18. What is the difference between os.fork() and multiprocessing in Python?\n",
        "  - fork is called by multiprocessing. Process , as this answer backs up. The important distinction, then, is os. fork copies everything in the current process using Unix's forking, which means at the time of forking both processes are the same with PID differences.\n",
        "\n",
        "19. What is the importance of closing a file in Python?\n",
        "  - Closing files in Python is an essential practice that helps maintain data integrity, prevent resource leaks, and ensure the reliability of your applications. By mastering file handling techniques, you can write more robust and efficient Python code that effectively manages file resources.\n",
        "\n",
        "20. What is the difference between file.read() and file.readline() in Python?\n",
        " - In Python, file.read() reads the entire file content as a single string, while file.readline() reads a single line from the file and returns it as a string. readline() is generally preferred for reading large files line by line, as it doesn't load the entire file into memory at once.\n",
        "\n",
        "21. What is the logging module in Python used for?\n",
        "  - The logging module in Python is a tool used to record events that occur during the execution of a program. It's a powerful way to track errors, warnings, and informational messages, which is helpful for debugging, troubleshooting, and monitoring your application. Logging provides a structured way to keep a record of what's happening within your code, making it easier to understand the behavior of your application and identify potential issues.\n",
        "\n",
        "22. What is the os module in Python used for in file handling?\n",
        "  - Python has a built-in os module with methods for interacting with the operating system, like creating files and directories, management of files and directories, input, output, environment variables, process management, etc.\n",
        "\n",
        "23. What are the challenges associated with memory management in Python?\n",
        "  - Python uses a combination of reference counting and garbage collection for memory management. Reference counting tracks how many times an object is referenced, and when the count reaches zero, the object is eligible for garbage collection. The garbage collector then identifies and deallocates memory occupied by those objects, preventing memory leaks.\n",
        "\n",
        "24. How do you raise an exception manually in Python?\n",
        "  - The raise keyword is used to raise an exception. We can define what kind of error to raise, and the text to print to the user.\n",
        "\n",
        "  Ex:-\n",
        "\n",
        "\n",
        "  "
      ]
    },
    {
      "cell_type": "code",
      "execution_count": null,
      "metadata": {
        "colab": {
          "base_uri": "https://localhost:8080/",
          "height": 176
        },
        "id": "A4dFfQsC-cV6",
        "outputId": "f3a61da2-0fb3-4d9b-980a-9fc0fc0b8488"
      },
      "outputs": [
        {
          "ename": "TypeError",
          "evalue": "Only integers are allowed",
          "output_type": "error",
          "traceback": [
            "\u001b[0;31m---------------------------------------------------------------------------\u001b[0m",
            "\u001b[0;31mTypeError\u001b[0m                                 Traceback (most recent call last)",
            "\u001b[0;32m<ipython-input-3-bc91768a6271>\u001b[0m in \u001b[0;36m<cell line: 0>\u001b[0;34m()\u001b[0m\n\u001b[1;32m      2\u001b[0m \u001b[0;34m\u001b[0m\u001b[0m\n\u001b[1;32m      3\u001b[0m \u001b[0;32mif\u001b[0m \u001b[0;32mnot\u001b[0m \u001b[0mtype\u001b[0m\u001b[0;34m(\u001b[0m\u001b[0mx\u001b[0m\u001b[0;34m)\u001b[0m \u001b[0;32mis\u001b[0m \u001b[0mint\u001b[0m\u001b[0;34m:\u001b[0m\u001b[0;34m\u001b[0m\u001b[0;34m\u001b[0m\u001b[0m\n\u001b[0;32m----> 4\u001b[0;31m   \u001b[0;32mraise\u001b[0m \u001b[0mTypeError\u001b[0m\u001b[0;34m(\u001b[0m\u001b[0;34m\"Only integers are allowed\"\u001b[0m\u001b[0;34m)\u001b[0m\u001b[0;34m\u001b[0m\u001b[0;34m\u001b[0m\u001b[0m\n\u001b[0m",
            "\u001b[0;31mTypeError\u001b[0m: Only integers are allowed"
          ]
        }
      ],
      "source": [
        "x = \"hello\"\n",
        "\n",
        "if not type(x) is int:\n",
        "  raise TypeError(\"Only integers are allowed\")"
      ]
    },
    {
      "cell_type": "markdown",
      "metadata": {
        "id": "iKUHZsWx-28e"
      },
      "source": [
        "25.  Why is it important to use multithreading in certain applications?\n",
        "   - Multithreading is important in applications where it's crucial to improve performance, responsiveness, and resource utilization, especially when dealing with concurrent tasks or I/O operations. It allows applications to handle multiple tasks simultaneously without blocking other threads, leading to better user experience and overall efficiency.\n",
        "\n",
        "26. How can you open a file for writing in Python and write a string to it?\n",
        "   - Creating a file is the first step before writing data to it. In Python, we can create a file using the following three modes:\n",
        "   Write (“w”) Mode: This mode creates a new file if it doesn't exist. If the file already exists, it truncates the file (i.e., deletes the existing content) and starts fresh.\n",
        "   Append (“a”) Mode: This mode creates a new file if it doesn't exist. If the file exists, it appends new content at the end without modifying the existing data.\n",
        "   Exclusive Creation (“x”) Mode: This mode creates a new file only if it doesn't already exist. If the file already exists, it raises a FileExistsError.\n",
        "\n",
        "   "
      ]
    },
    {
      "cell_type": "code",
      "execution_count": null,
      "metadata": {
        "colab": {
          "base_uri": "https://localhost:8080/"
        },
        "id": "zRpfpkAr_cg8",
        "outputId": "98dd2e89-08f2-4cf2-b24e-c2297b7032cc"
      },
      "outputs": [
        {
          "name": "stdout",
          "output_type": "stream",
          "text": [
            "Created using write mode.\n",
            "Created using write mode.Content appended to the file.\n",
            "Already exists.\n"
          ]
        }
      ],
      "source": [
        "with open(\"file.txt\", \"w\") as f:\n",
        "    f.write(\"Created using write mode.\")\n",
        "\n",
        "f = open(\"file.txt\",\"r\")\n",
        "print(f.read())\n",
        "\n",
        "with open(\"file.txt\", \"a\") as f:\n",
        "    f.write(\"Content appended to the file.\")\n",
        "\n",
        "f = open(\"file.txt\",\"r\")\n",
        "print(f.read())\n",
        "\n",
        "try:\n",
        "    with open(\"file.txt\", \"x\") as f:\n",
        "        f.write(\"Created using exclusive mode.\")\n",
        "except FileExistsError:\n",
        "    print(\"Already exists.\")"
      ]
    },
    {
      "cell_type": "markdown",
      "metadata": {
        "id": "ugGvqp41_yju"
      },
      "source": [
        "27.  Write a Python program to read the contents of a file and print each line?\n",
        "   -"
      ]
    },
    {
      "cell_type": "code",
      "execution_count": null,
      "metadata": {
        "colab": {
          "base_uri": "https://localhost:8080/",
          "height": 211
        },
        "id": "oOcdnkEL_87B",
        "outputId": "fdbb0502-c7d4-45e7-82e9-fc61c7736be1"
      },
      "outputs": [
        {
          "ename": "FileNotFoundError",
          "evalue": "[Errno 2] No such file or directory: 'diary980.md'",
          "output_type": "error",
          "traceback": [
            "\u001b[0;31m---------------------------------------------------------------------------\u001b[0m",
            "\u001b[0;31mFileNotFoundError\u001b[0m                         Traceback (most recent call last)",
            "\u001b[0;32m<ipython-input-9-3f59a8cc0250>\u001b[0m in \u001b[0;36m<cell line: 0>\u001b[0;34m()\u001b[0m\n\u001b[1;32m      1\u001b[0m \u001b[0mfilename\u001b[0m \u001b[0;34m=\u001b[0m \u001b[0;34m\"diary980.md\"\u001b[0m\u001b[0;34m\u001b[0m\u001b[0;34m\u001b[0m\u001b[0m\n\u001b[0;32m----> 2\u001b[0;31m \u001b[0;32mwith\u001b[0m \u001b[0mopen\u001b[0m\u001b[0;34m(\u001b[0m\u001b[0mfilename\u001b[0m\u001b[0;34m)\u001b[0m \u001b[0;32mas\u001b[0m \u001b[0mdiary_file\u001b[0m\u001b[0;34m:\u001b[0m\u001b[0;34m\u001b[0m\u001b[0;34m\u001b[0m\u001b[0m\n\u001b[0m\u001b[1;32m      3\u001b[0m     \u001b[0mcontents\u001b[0m \u001b[0;34m=\u001b[0m \u001b[0mdiary_file\u001b[0m\u001b[0;34m.\u001b[0m\u001b[0mread\u001b[0m\u001b[0;34m(\u001b[0m\u001b[0;34m)\u001b[0m\u001b[0;34m\u001b[0m\u001b[0;34m\u001b[0m\u001b[0m\n\u001b[1;32m      4\u001b[0m \u001b[0;34m\u001b[0m\u001b[0m\n\u001b[1;32m      5\u001b[0m \u001b[0mcontents\u001b[0m\u001b[0;34m\u001b[0m\u001b[0;34m\u001b[0m\u001b[0m\n",
            "\u001b[0;31mFileNotFoundError\u001b[0m: [Errno 2] No such file or directory: 'diary980.md'"
          ]
        }
      ],
      "source": [
        "filename = \"diary980.md\"\n",
        "with open(filename) as diary_file:\n",
        "    contents = diary_file.read()\n",
        "\n",
        "contents"
      ]
    },
    {
      "cell_type": "markdown",
      "metadata": {
        "id": "qErwOLqvAipS"
      },
      "source": [
        "28.  How would you handle a case where the file doesn't exist while trying to open it for reading?\n",
        "  -"
      ]
    },
    {
      "cell_type": "code",
      "execution_count": null,
      "metadata": {
        "colab": {
          "base_uri": "https://localhost:8080/"
        },
        "id": "zyPqE4haBbEu",
        "outputId": "060f975f-2ce6-4199-c294-ba325796de9a"
      },
      "outputs": [
        {
          "name": "stdout",
          "output_type": "stream",
          "text": [
            "Input a file name: pdf\n",
            "Error: File not found.\n"
          ]
        }
      ],
      "source": [
        "def open_file(filename):\n",
        "    try:\n",
        "        # Attempt to open the specified file in read mode ('r').\n",
        "        file = open(filename, 'r')\n",
        "        # Read the contents of the file and store them in the 'contents' variable.\n",
        "        contents = file.read()\n",
        "        # Print a message to indicate that the file contents will be displayed.\n",
        "        print(\"File contents:\")\n",
        "        # Print the contents of the file.\n",
        "        print(contents)\n",
        "        # Close the file to release system resources.\n",
        "        file.close()\n",
        "    except FileNotFoundError:\n",
        "        # Handle the exception if the specified file is not found.\n",
        "        print(\"Error: File not found.\")\n",
        "\n",
        "# Usage\n",
        "# Prompt the user to input a file name and store it in the 'file_name' variable.\n",
        "file_name = input(\"Input a file name: \")\n",
        "# Call the open_file function with the provided file name.\n",
        "open_file(file_name)"
      ]
    },
    {
      "cell_type": "markdown",
      "metadata": {
        "id": "XMZJ-gHFBiKp"
      },
      "source": [
        "29. Write a Python script that reads from one file and writes its content to another file."
      ]
    },
    {
      "cell_type": "code",
      "execution_count": null,
      "metadata": {
        "id": "Uw0bRc_RBs66"
      },
      "outputs": [],
      "source": [
        "def copy_file_contents(source_file_path, destination_file_path):\n",
        "    try:\n",
        "        with open(source_file_path, 'r') as source_file:\n",
        "            content = source_file.read()\n",
        "            with open(destination_file_path, 'w') as destination_file:\n",
        "                destination_file.write(content)\n",
        "        print(f\"File '{source_file_path}' copied to '{destination_file_path}' successfully.\")\n",
        "    except FileNotFoundError:\n",
        "        print(f\"Error: Source file '{source_file_path}' not found.\")\n",
        "    except Exception as e:\n",
        "        print(f\"An error occurred: {e}\")"
      ]
    },
    {
      "cell_type": "markdown",
      "metadata": {
        "id": "RmP_tChHCB_E"
      },
      "source": [
        "30.  How would you catch and handle division by zero error in Python.\n",
        "   -"
      ]
    },
    {
      "cell_type": "code",
      "execution_count": null,
      "metadata": {
        "colab": {
          "base_uri": "https://localhost:8080/"
        },
        "id": "0AqZhox7CV4R",
        "outputId": "bd19318f-eb1f-409f-b04b-7f6547950454"
      },
      "outputs": [
        {
          "name": "stdout",
          "output_type": "stream",
          "text": [
            "The division by zero operation is not allowed.\n"
          ]
        }
      ],
      "source": [
        "def divide_numbers(x, y):\n",
        "    try:\n",
        "        result = x / y\n",
        "        print(\"Result:\", result)\n",
        "    except ZeroDivisionError:\n",
        "        print(\"The division by zero operation is not allowed.\")\n",
        "\n",
        "numerator = 100\n",
        "denominator = 0\n",
        "divide_numbers(numerator, denominator)"
      ]
    },
    {
      "cell_type": "markdown",
      "metadata": {
        "id": "WrjRO8i8ChYY"
      },
      "source": [
        "31. Write a Python program that logs an error message to a log file when a division by zero exception occurs.\n",
        "-"
      ]
    },
    {
      "cell_type": "code",
      "execution_count": null,
      "metadata": {
        "colab": {
          "base_uri": "https://localhost:8080/"
        },
        "id": "SIZWvGw-C3zQ",
        "outputId": "79f5f1bd-9331-4e76-be70-5c2ee7182355"
      },
      "outputs": [
        {
          "name": "stdout",
          "output_type": "stream",
          "text": [
            "The division by zero operation is not allowed.\n"
          ]
        }
      ],
      "source": [
        "def divide_numbers(x, y):\n",
        "    try:\n",
        "        # Attempt to perform the division operation and store the result in the 'result' variable.\n",
        "        result = x / y\n",
        "        print(\"Result:\", result)\n",
        "    except ZeroDivisionError:\n",
        "        # Handle the exception if a division by zero is attempted.\n",
        "        print(\"The division by zero operation is not allowed.\")\n",
        "\n",
        "# Usage\n",
        "# Define the numerator and denominator values.\n",
        "numerator = 100\n",
        "denominator = 0\n",
        "# Call the divide_numbers function with the provided numerator and denominator.\n",
        "divide_numbers(numerator, denominator)"
      ]
    },
    {
      "cell_type": "markdown",
      "metadata": {
        "id": "PgHQrHf8C-tQ"
      },
      "source": [
        "32. How do you log information at different levels (INFO, ERROR, WARNING) in Python using the logging module.\n",
        " -"
      ]
    },
    {
      "cell_type": "code",
      "execution_count": null,
      "metadata": {
        "colab": {
          "base_uri": "https://localhost:8080/"
        },
        "id": "Uhx03FO0DDl2",
        "outputId": "071025ac-2813-4186-b1af-e4aca618375e"
      },
      "outputs": [
        {
          "name": "stderr",
          "output_type": "stream",
          "text": [
            "ERROR:root:Something went wrong!\n"
          ]
        }
      ],
      "source": [
        "import logging\n",
        ">>> logging.basicConfig(\n",
        "...     format=\"{asctime} - {levelname} - {message}\",\n",
        "...     style=\"{\",\n",
        "...     datefmt=\"%Y-%m-%d %H:%M\",\n",
        "... )\n",
        "\n",
        ">>> logging.error(\"Something went wrong!\")"
      ]
    },
    {
      "cell_type": "markdown",
      "metadata": {
        "id": "ZbyqWznhDXyf"
      },
      "source": [
        "33. Write a program to handle a file opening error using exception handling."
      ]
    },
    {
      "cell_type": "code",
      "execution_count": null,
      "metadata": {
        "colab": {
          "base_uri": "https://localhost:8080/"
        },
        "id": "Ex5XlNA1Dj3v",
        "outputId": "44198524-2c0c-49d5-f5e0-a3ac098d1c22"
      },
      "outputs": [
        {
          "output_type": "stream",
          "name": "stdout",
          "text": [
            "Can't be divided by zero!\n"
          ]
        }
      ],
      "source": [
        " n = 10\n",
        "try:\n",
        "    res = n / 0  # This will raise a ZeroDivisionError\n",
        "\n",
        "except ZeroDivisionError:\n",
        "    print(\"Can't be divided by zero!\")"
      ]
    },
    {
      "cell_type": "markdown",
      "source": [
        "34. How can you read a file line by line and store its content in a list in Python."
      ],
      "metadata": {
        "id": "HYZbvRUEXs7Y"
      }
    },
    {
      "cell_type": "code",
      "source": [
        "with open('file.txt, 'r') as file:\n",
        "    # Read each line in the file\n",
        "    for line in file:\n",
        "        # Print each line\n",
        "        print(line.strip())"
      ],
      "metadata": {
        "colab": {
          "base_uri": "https://localhost:8080/",
          "height": 211
        },
        "id": "aXcvSerYXv6F",
        "outputId": "5ae7a4da-4c0f-49bd-ccf2-5c921546e53a"
      },
      "execution_count": null,
      "outputs": [
        {
          "output_type": "error",
          "ename": "FileNotFoundError",
          "evalue": "[Errno 2] No such file or directory: 'filename.txt'",
          "traceback": [
            "\u001b[0;31m---------------------------------------------------------------------------\u001b[0m",
            "\u001b[0;31mFileNotFoundError\u001b[0m                         Traceback (most recent call last)",
            "\u001b[0;32m<ipython-input-2-46909897fc7a>\u001b[0m in \u001b[0;36m<cell line: 0>\u001b[0;34m()\u001b[0m\n\u001b[0;32m----> 1\u001b[0;31m \u001b[0;32mwith\u001b[0m \u001b[0mopen\u001b[0m\u001b[0;34m(\u001b[0m\u001b[0;34m'filename.txt'\u001b[0m\u001b[0;34m,\u001b[0m \u001b[0;34m'r'\u001b[0m\u001b[0;34m)\u001b[0m \u001b[0;32mas\u001b[0m \u001b[0mfile\u001b[0m\u001b[0;34m:\u001b[0m\u001b[0;34m\u001b[0m\u001b[0;34m\u001b[0m\u001b[0m\n\u001b[0m\u001b[1;32m      2\u001b[0m     \u001b[0;31m# Read each line in the file\u001b[0m\u001b[0;34m\u001b[0m\u001b[0;34m\u001b[0m\u001b[0m\n\u001b[1;32m      3\u001b[0m     \u001b[0;32mfor\u001b[0m \u001b[0mline\u001b[0m \u001b[0;32min\u001b[0m \u001b[0mfile\u001b[0m\u001b[0;34m:\u001b[0m\u001b[0;34m\u001b[0m\u001b[0;34m\u001b[0m\u001b[0m\n\u001b[1;32m      4\u001b[0m         \u001b[0;31m# Print each line\u001b[0m\u001b[0;34m\u001b[0m\u001b[0;34m\u001b[0m\u001b[0m\n\u001b[1;32m      5\u001b[0m         \u001b[0mprint\u001b[0m\u001b[0;34m(\u001b[0m\u001b[0mline\u001b[0m\u001b[0;34m.\u001b[0m\u001b[0mstrip\u001b[0m\u001b[0;34m(\u001b[0m\u001b[0;34m)\u001b[0m\u001b[0;34m)\u001b[0m\u001b[0;34m\u001b[0m\u001b[0;34m\u001b[0m\u001b[0m\n",
            "\u001b[0;31mFileNotFoundError\u001b[0m: [Errno 2] No such file or directory: 'filename.txt'"
          ]
        }
      ]
    },
    {
      "cell_type": "markdown",
      "source": [
        "35. How can you append data to an existing file in Python."
      ],
      "metadata": {
        "id": "yVNlhtjnX6ll"
      }
    },
    {
      "cell_type": "code",
      "source": [
        "file1 = open(\"myfile.txt\", \"w\")\n",
        "L = [\"This is Delhi \\n\", \"This is Paris \\n\", \"This is London\"]\n",
        "file1.writelines(L)\n",
        "file1.close()\n",
        "\n",
        "# Append-adds at last\n",
        "file1 = open(\"myfile.txt\", \"a\")  # append mode\n",
        "file1.write(\"Today \\n\")\n",
        "file1.close()"
      ],
      "metadata": {
        "id": "6R7_YOKwX_4f"
      },
      "execution_count": null,
      "outputs": []
    },
    {
      "cell_type": "markdown",
      "source": [
        "36. Write a Python program that uses a try-except block to handle an error when attempting to access a\n",
        "dictionary key that doesn't exist.\n"
      ],
      "metadata": {
        "id": "0_g0ISykYFZr"
      }
    },
    {
      "cell_type": "code",
      "source": [
        "d = { 'a' : 1 , 'b' : 2 }\n",
        "\n",
        "# trying to output value of absent key\n",
        "print (\"The value associated with 'c' is : \")\n",
        "print (d['c'])"
      ],
      "metadata": {
        "colab": {
          "base_uri": "https://localhost:8080/",
          "height": 193
        },
        "id": "F2PNj3lRYJns",
        "outputId": "e8f1f1e6-e1bc-4e51-8bd2-959990e68ee9"
      },
      "execution_count": null,
      "outputs": [
        {
          "output_type": "stream",
          "name": "stdout",
          "text": [
            "The value associated with 'c' is : \n"
          ]
        },
        {
          "output_type": "error",
          "ename": "KeyError",
          "evalue": "'c'",
          "traceback": [
            "\u001b[0;31m---------------------------------------------------------------------------\u001b[0m",
            "\u001b[0;31mKeyError\u001b[0m                                  Traceback (most recent call last)",
            "\u001b[0;32m<ipython-input-3-8811e176df0c>\u001b[0m in \u001b[0;36m<cell line: 0>\u001b[0;34m()\u001b[0m\n\u001b[1;32m      3\u001b[0m \u001b[0;31m# trying to output value of absent key\u001b[0m\u001b[0;34m\u001b[0m\u001b[0;34m\u001b[0m\u001b[0m\n\u001b[1;32m      4\u001b[0m \u001b[0mprint\u001b[0m \u001b[0;34m(\u001b[0m\u001b[0;34m\"The value associated with 'c' is : \"\u001b[0m\u001b[0;34m)\u001b[0m\u001b[0;34m\u001b[0m\u001b[0;34m\u001b[0m\u001b[0m\n\u001b[0;32m----> 5\u001b[0;31m \u001b[0mprint\u001b[0m \u001b[0;34m(\u001b[0m\u001b[0md\u001b[0m\u001b[0;34m[\u001b[0m\u001b[0;34m'c'\u001b[0m\u001b[0;34m]\u001b[0m\u001b[0;34m)\u001b[0m\u001b[0;34m\u001b[0m\u001b[0;34m\u001b[0m\u001b[0m\n\u001b[0m",
            "\u001b[0;31mKeyError\u001b[0m: 'c'"
          ]
        }
      ]
    },
    {
      "cell_type": "markdown",
      "source": [
        "36.  Write a program that demonstrates using multiple except blocks to handle different types of exceptions."
      ],
      "metadata": {
        "id": "hXE03KuLYTV5"
      }
    },
    {
      "cell_type": "code",
      "source": [
        "try:\n",
        "    client_obj.get_url(url)\n",
        "except (URLError, ValueError, SocketTimeout):\n",
        "    client_obj.remove_url(url)"
      ],
      "metadata": {
        "id": "dWIRwdgEYVbI"
      },
      "execution_count": null,
      "outputs": []
    },
    {
      "cell_type": "markdown",
      "source": [
        "37. How would you check if a file exists before attempting to read it in Python"
      ],
      "metadata": {
        "id": "IpndlCU8YnSM"
      }
    },
    {
      "cell_type": "code",
      "source": [
        "import os\n",
        "\n",
        "# Get the current working directory\n",
        "current_directory = os.getcwd()\n",
        "print(\"The current working directory is:\", current_directory)"
      ],
      "metadata": {
        "id": "5ApFhzlDZIkN"
      },
      "execution_count": null,
      "outputs": []
    },
    {
      "cell_type": "markdown",
      "source": [
        "38. Write a program that uses the logging module to log both informational and error messages."
      ],
      "metadata": {
        "id": "x64SY7ZGZJla"
      }
    },
    {
      "cell_type": "code",
      "source": [
        "import logging\n",
        "\n",
        "# Create and configure logger\n",
        "logging.basicConfig(filename=\"newfile.log\",\n",
        "                    format='%(asctime)s %(message)s',\n",
        "                    filemode='w')\n",
        "\n",
        "# Creating an object\n",
        "logger = logging.getLogger()\n",
        "\n",
        "# Setting the threshold of logger to DEBUG\n",
        "logger.setLevel(logging.DEBUG)\n",
        "\n",
        "# Test messages\n",
        "logger.debug(\"Harmless debug Message\")\n",
        "logger.info(\"Just an information\")\n",
        "logger.warning(\"Its a Warning\")\n",
        "logger.error(\"Did you try to divide by zero\")\n",
        "logger.critical(\"Internet is down\")"
      ],
      "metadata": {
        "colab": {
          "base_uri": "https://localhost:8080/"
        },
        "id": "tCwgjiH_ZMqp",
        "outputId": "8cfbee0e-05e1-42fe-f8e9-e4883af6e108"
      },
      "execution_count": null,
      "outputs": [
        {
          "output_type": "stream",
          "name": "stderr",
          "text": [
            "DEBUG:root:Harmless debug Message\n",
            "INFO:root:Just an information\n",
            "WARNING:root:Its a Warning\n",
            "ERROR:root:Did you try to divide by zero\n",
            "CRITICAL:root:Internet is down\n"
          ]
        }
      ]
    },
    {
      "cell_type": "markdown",
      "source": [
        "39.  Write a Python program that prints the content of a file and handles the case when the file is empty."
      ],
      "metadata": {
        "id": "LCPTINzIZaZ_"
      }
    },
    {
      "cell_type": "code",
      "source": [
        "def print_file_content(filepath):\n",
        "    \"\"\"\n",
        "    Prints the content of a file, handling the case where the file is empty.\n",
        "    \"\"\"\n",
        "    try:\n",
        "        with open(filepath, 'r') as file:\n",
        "            content = file.read()\n",
        "            if len(content) > 0:\n",
        "                print(content)\n",
        "            else:\n",
        "                print(\"The file is empty.\")\n",
        "    except FileNotFoundError:\n",
        "        print(f\"Error: File not found at {filepath}\")\n",
        "    except Exception as e:\n",
        "        print(f\"An error occurred: {e}\")\n",
        "\n",
        "# Example Usage:  Replace 'your_file.txt' with the actual path to your file\n",
        "print_file_content('your_file.txt')"
      ],
      "metadata": {
        "colab": {
          "base_uri": "https://localhost:8080/"
        },
        "id": "tpOPpe8HZfly",
        "outputId": "4c361cb3-87ac-40f5-d54e-78dae5a03d14"
      },
      "execution_count": null,
      "outputs": [
        {
          "output_type": "stream",
          "name": "stdout",
          "text": [
            "Error: File not found at your_file.txt\n"
          ]
        }
      ]
    },
    {
      "cell_type": "markdown",
      "source": [
        "40. Demonstrate how to use memory profiling to check the memory usage of a small program."
      ],
      "metadata": {
        "id": "_pqjH-ZUZhwq"
      }
    },
    {
      "cell_type": "code",
      "source": [
        " import memory_profiler\n",
        "\n",
        "   @memory_profiler.profile\n",
        "   def my_function():\n",
        "       # Your code here\n",
        "       list1 = [i for i in range(1000000)]\n",
        "       list2 = list1[:] # create a copy, take up more memory\n",
        "       del list1 # free the memory\n",
        "       return sum(list2)\n",
        "\n",
        "   if __name__ == \"__main__\":\n",
        "       result = my_function()\n",
        "       print(result)"
      ],
      "metadata": {
        "id": "fdLhLshbZllN"
      },
      "execution_count": null,
      "outputs": []
    },
    {
      "cell_type": "markdown",
      "source": [
        "41. Write a Python program to create and write a list of numbers to a file, one number per line."
      ],
      "metadata": {
        "id": "IW85vGxaZxk2"
      }
    },
    {
      "cell_type": "code",
      "source": [
        "l = ['Geeks','for','Geeks!']\n",
        "\n",
        "# open file\n",
        "with open('gfg.txt', 'w+') as f:\n",
        "\n",
        "    # write elements of list\n",
        "    for items in l:\n",
        "        f.write('%s\\n' %items)\n",
        "\n",
        "    print(\"File written successfully\")\n",
        "\n",
        "\n",
        "# close the file\n",
        "f.close()"
      ],
      "metadata": {
        "id": "n-rjFsSqZ0TZ"
      },
      "execution_count": null,
      "outputs": []
    },
    {
      "cell_type": "markdown",
      "source": [
        "42. How would you implement a basic logging setup that logs to a file with rotation after 1MB."
      ],
      "metadata": {
        "id": "oUg-pwnNZ4NX"
      }
    },
    {
      "cell_type": "code",
      "source": [
        "import logging\n",
        "import logging.handlers\n",
        "\n",
        "# Configure the logger\n",
        "logger = logging.getLogger(__name__)\n",
        "logger.setLevel(logging.DEBUG)\n",
        "\n",
        "# Create a RotatingFileHandler\n",
        "handler = logging.handlers.RotatingFileHandler('my_log.log', maxBytes=1024*1024, backupCount=5)\n",
        "\n",
        "# Set a formatter\n",
        "formatter = logging.Formatter('%(asctime)s - %(levelname)s - %(message)s')\n",
        "handler.setFormatter(formatter)\n",
        "\n",
        "# Add the handler to the logger\n",
        "logger.addHandler(handler)\n",
        "\n",
        "# Log some messages\n",
        "logger.debug('This is a debug message')\n",
        "logger.info('This is an info message')\n",
        "logger.warning('This is a warning message')\n",
        "logger.error('This is an error message')\n",
        "logger.critical('This is a critical message')"
      ],
      "metadata": {
        "id": "K1WRx-ghaCre"
      },
      "execution_count": null,
      "outputs": []
    },
    {
      "cell_type": "markdown",
      "source": [
        "43. Write a program that handles both IndexError and KeyError using a try-except block."
      ],
      "metadata": {
        "id": "GHyuDxO7aEIb"
      }
    },
    {
      "cell_type": "code",
      "source": [
        "subjects = {'Sree': 'Maths',\n",
        "            'Ram': 'Biology',\n",
        "            'Shyam': 'Science',\n",
        "            'Abdul': 'Hindi'}\n",
        "\n",
        "# Printing the subject of Fharan\n",
        "print(subjects['Fharan'])"
      ],
      "metadata": {
        "id": "pW4uIza-aIWB"
      },
      "execution_count": null,
      "outputs": []
    },
    {
      "cell_type": "markdown",
      "source": [
        "44. How would you open a file and read its contents using a context manager in Python."
      ],
      "metadata": {
        "id": "iBr4XBWvaOBA"
      }
    },
    {
      "cell_type": "code",
      "source": [
        "class ContextManager():\n",
        "    def __init__(self):\n",
        "        print('init method called')\n",
        "\n",
        "    def __enter__(self):\n",
        "        print('enter method called')\n",
        "        return self\n",
        "\n",
        "    def __exit__(self, exc_type, exc_value, exc_traceback):\n",
        "        print('exit method called')\n",
        "\n",
        "with ContextManager() as manager:\n",
        "    print('with statement block')"
      ],
      "metadata": {
        "id": "eGO5Ok6TacdB"
      },
      "execution_count": null,
      "outputs": []
    },
    {
      "cell_type": "markdown",
      "source": [
        "45. Write a Python program that reads a file and prints the number of occurrences of a specific word."
      ],
      "metadata": {
        "id": "0Bxb3GjXadYF"
      }
    },
    {
      "cell_type": "code",
      "source": [
        "text = open(\"sample.txt\", \"r\")\n",
        "\n",
        "# Create an empty dictionary\n",
        "d = dict()\n",
        "\n",
        "# Loop through each line of the file\n",
        "for line in text:\n",
        "    # Remove the leading spaces and newline character\n",
        "    line = line.strip()\n",
        "\n",
        "    # Convert the characters in line to\n",
        "    # lowercase to avoid case mismatch\n",
        "    line = line.lower()\n",
        "\n",
        "    # Split the line into words\n",
        "    words = line.split(\" \")\n",
        "\n",
        "\n",
        "    # Iterate over each word in line\n",
        "    for word in words:\n",
        "        # Check if the word is already in dictionary\n",
        "        if word in d:\n",
        "            # Increment count of word by 1\n",
        "            d[word] = d[word] + 1\n",
        "        else:\n",
        "            # Add the word to dictionary with count 1\n",
        "            d[word] = 1\n",
        "\n",
        "# Print the contents of dictionary\n",
        "for key in list(d.keys()):\n",
        "    print(key, \":\", d[key])"
      ],
      "metadata": {
        "id": "7CBKwmTgav9D"
      },
      "execution_count": null,
      "outputs": []
    },
    {
      "cell_type": "markdown",
      "source": [
        "46.  How can you check if a file is empty before attempting to read its contents."
      ],
      "metadata": {
        "id": "Cmlr7dwFaz--"
      }
    },
    {
      "cell_type": "code",
      "source": [
        "file_path = '/Users/girish/Desktop/GFG Internship/input.txt'\n",
        "\n",
        "# open the file in read mode\n",
        "with open(file_path, 'r') as file_obj:\n",
        "    # read first character\n",
        "    first_char = file_obj.read(1)\n",
        "\n",
        "    if not first_char:\n",
        "        print(\"File is empty\")\n",
        "    else:\n",
        "        print(\"File is NOT empty\")"
      ],
      "metadata": {
        "id": "BjqUHwfLbDpx"
      },
      "execution_count": null,
      "outputs": []
    },
    {
      "cell_type": "markdown",
      "source": [
        "47. Write a Python program that writes to a log file when an error occurs during file handling."
      ],
      "metadata": {
        "id": "M5Q6UUb4bKKv"
      }
    },
    {
      "cell_type": "code",
      "source": [
        "import logging\n",
        "\n",
        "logging.basicConfig(filename=&quot;gfg-log.log&quot;, filemode=&quot;w&quot;,\n",
        "                    format=&quot;%(name)s → %(levelname)s: %(message)s&quot;)\n",
        "\n",
        "logging.warning(&quot;warning&quot;)\n",
        "\n",
        "logger = logging.getLogger(__name__)\n",
        "FileOutputHandler = logging.FileHandler('logs.log')\n",
        "\n",
        "logger.addHandler(FileOutputHandler)\n",
        "\n",
        "\n",
        "logger.warning(&quot;test.&quot;)"
      ],
      "metadata": {
        "id": "TKXTd6PDbQuz"
      },
      "execution_count": null,
      "outputs": []
    }
  ],
  "metadata": {
    "colab": {
      "provenance": []
    },
    "kernelspec": {
      "display_name": "Python 3",
      "name": "python3"
    },
    "language_info": {
      "name": "python"
    }
  },
  "nbformat": 4,
  "nbformat_minor": 0
}